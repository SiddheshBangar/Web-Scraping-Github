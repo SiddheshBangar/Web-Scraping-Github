{
 "cells": [
  {
   "cell_type": "markdown",
   "metadata": {},
   "source": [
    "# Web Scraping top repositories from Github Topics"
   ]
  },
  {
   "cell_type": "markdown",
   "metadata": {},
   "source": [
    "📌**Web Scraping** - Web scraping (or data scraping) is a technique used to collect content and data from the internet. This data is usually saved in a local file so that it can be manipulated and analyzed as needed.\n",
    "\n",
    "📌**Github** - GitHub is a website and cloud-based service that helps developers store and manage their code, as well as track and control changes to their code."
   ]
  },
  {
   "cell_type": "markdown",
   "metadata": {},
   "source": [
    " 📌**Tools Used are**:\n",
    "- Python\n",
    "- requests\n",
    "- Pandas\n",
    "- Beautiful Soup (BS4)\n",
    "- os"
   ]
  },
  {
   "cell_type": "markdown",
   "metadata": {},
   "source": [
    "📌**Project Outline** :\n",
    "- We are going to scrape: https://github.com/topics\n",
    "- We will get a list of topics and for each topic we will get the topic name and topic page url and topic description.\n",
    "- For each topic, we will get the top 25 repositories in the topic from the topic page.\n",
    "- For each topic we will create a CSV File in the following format:\n",
    "\n",
    "```\n",
    "Repo Name,Username,Stars,Repo URL\n",
    "three.js,mrdoob,69700,https://github.com/mrdoob/three.js\n",
    "```"
   ]
  },
  {
   "cell_type": "markdown",
   "metadata": {},
   "source": [
    "## 📍 Scraping List of Topics from Github"
   ]
  },
  {
   "cell_type": "markdown",
   "metadata": {},
   "source": [
    "First we will be importing all the libraries that are required in the project\n",
    "- **requests** - The requests library is the de facto standard for making HTTP requests in Python. It abstracts the complexities of making requests behind a beautiful, simple API so that you can focus on interacting with services and consuming data in your application.\n",
    "- **Beautiful Soup** - is a Python library for pulling data out of HTML and XML files. It works with your favorite parser to provide idiomatic ways of navigating, searching, and modifying the parse tree. It commonly saves programmers hours or days of work."
   ]
  },
  {
   "cell_type": "code",
   "execution_count": 1,
   "metadata": {
    "pycharm": {
     "name": "#%%\n"
    }
   },
   "outputs": [],
   "source": [
    "import os\n",
    "import requests\n",
    "import pandas as pd\n",
    "\n",
    "from bs4 import BeautifulSoup"
   ]
  },
  {
   "cell_type": "markdown",
   "metadata": {},
   "source": [
    "Next, we have to download the contents of Github Topics page using 'requests' and parse it using 'BS4'"
   ]
  },
  {
   "cell_type": "code",
   "execution_count": 140,
   "metadata": {
    "pycharm": {
     "name": "#%%\n"
    }
   },
   "outputs": [],
   "source": [
    "def scrape_topics_repos():\n",
    "    topic_url = 'https://github.com/topics?page=6'\n",
    "\n",
    "    # Download the url using requests.get()\n",
    "    response = requests.get(topic_url)\n",
    "\n",
    "    if response.status_code != 200:\n",
    "        raise Exception('Failed to load page {}'.format(topic_url))\n",
    "\n",
    "    # Parse the downloaded page using Beautiful Soup\n",
    "    topic =  BeautifulSoup(response.text, 'html.parser')\n",
    "\n",
    "    return topic"
   ]
  },
  {
   "cell_type": "code",
   "execution_count": 142,
   "metadata": {
    "pycharm": {
     "name": "#%%\n"
    }
   },
   "outputs": [
    {
     "data": {
      "text/plain": [
       "bs4.BeautifulSoup"
      ]
     },
     "execution_count": 142,
     "metadata": {},
     "output_type": "execute_result"
    }
   ],
   "source": [
    "topic = scrape_topics_repos()\n",
    "type(topic)"
   ]
  },
  {
   "cell_type": "markdown",
   "metadata": {},
   "source": [
    "Once we have downloaded and parsed the page, to get the topic titles, description and the url we have to use 'find_all()' from the Beautiful Soup library which helps to extract or scrape contents from a html web page by using the html tags and classes as the parameters.\n",
    "\n",
    "We will define different functions to scrape all the required data and save it into a list."
   ]
  },
  {
   "cell_type": "code",
   "execution_count": 143,
   "metadata": {
    "pycharm": {
     "name": "#%%\n"
    }
   },
   "outputs": [],
   "source": [
    "def get_topic_title(doc):\n",
    "\n",
    "    # find_all() or findAll() helps to find the elements from the page using html tags and classes\n",
    "    topic_title = doc.find_all('p', { 'class': 'f3 lh-condensed mb-0 mt-1 Link--primary'})\n",
    "    topicTitles = []\n",
    "    for tag in topic_title:\n",
    "        topicTitles.append(tag.text)\n",
    "    return topicTitles\n",
    "\n",
    "def get_topic_desc(doc):\n",
    "    topic_desc = doc.find_all('p', {'class':\"f5 color-fg-muted mb-0 mt-1\"})\n",
    "    topicDesc = []\n",
    "    for tag in topic_desc:\n",
    "        topicDesc.append(tag.text.strip())\n",
    "    return topicDesc\n",
    "\n",
    "def get_topic_url(doc):\n",
    "    topic_links = doc.find_all('a', {'class':'no-underline flex-1 d-flex flex-column'})\n",
    "    topicUrls = []\n",
    "    baseurl = 'https://github.com'\n",
    "    for tag in topic_links:\n",
    "        topicUrls.append(baseurl + tag['href'])\n",
    "    return topicUrls"
   ]
  },
  {
   "cell_type": "code",
   "execution_count": 144,
   "metadata": {
    "pycharm": {
     "name": "#%%\n"
    }
   },
   "outputs": [
    {
     "data": {
      "text/plain": [
       "['SpaceVim',\n",
       " 'Spring Boot',\n",
       " 'SQL',\n",
       " 'Storybook',\n",
       " 'Support',\n",
       " 'Swift',\n",
       " 'Symfony',\n",
       " 'Telegram',\n",
       " 'Tensorflow',\n",
       " 'Terminal',\n",
       " 'Terraform',\n",
       " 'Testing',\n",
       " 'Twitter',\n",
       " 'TypeScript',\n",
       " 'Ubuntu',\n",
       " 'Unity',\n",
       " 'Unreal Engine',\n",
       " 'Vagrant',\n",
       " 'Vim',\n",
       " 'Virtual reality',\n",
       " 'Vue.js',\n",
       " 'Wagtail',\n",
       " 'Web Components',\n",
       " 'Web app',\n",
       " 'Webpack',\n",
       " 'Windows',\n",
       " 'WordPlate',\n",
       " 'WordPress',\n",
       " 'Xamarin',\n",
       " 'XML']"
      ]
     },
     "execution_count": 144,
     "metadata": {},
     "output_type": "execute_result"
    }
   ],
   "source": [
    "topicTitles = get_topic_title(topic)\n",
    "topicTitles"
   ]
  },
  {
   "cell_type": "code",
   "execution_count": 145,
   "metadata": {
    "pycharm": {
     "name": "#%%\n"
    }
   },
   "outputs": [
    {
     "data": {
      "text/plain": [
       "['SpaceVim is a community-driven distribution of the vim editor that allows managing your plugins in layers.',\n",
       " 'Spring Boot is a coding and configuration model for Java applications.',\n",
       " 'SQL is a standard language for storing, retrieving and manipulating data in databases.',\n",
       " 'Storybook is a UI development environment for your UI components.',\n",
       " 'Get your team and customers the help they need.',\n",
       " 'Swift is a modern programming language focused on safety, performance, and expressivity.',\n",
       " 'Symfony is a set of reusable PHP components and a web framework.',\n",
       " 'Telegram is a non-profit, cloud-based instant messaging service.',\n",
       " 'TensorFlow is an open source software library for numerical computation.',\n",
       " 'The terminal is an interface in which you can type and execute text-based commands.',\n",
       " 'An infrastructure-as-code tool for building, changing, and versioning infrastructure safely and efficiently.',\n",
       " 'Eliminate bugs and ship with more confidence by adding these tools to your workflow.',\n",
       " 'Twitter is an online news and social networking service where users post and interact with messages, known as “Tweets”.',\n",
       " 'TypeScript is a typed superset of JavaScript that compiles to plain JavaScript.',\n",
       " 'Ubuntu is a Linux-based operating system.',\n",
       " 'Unity is a game engine used to create 2D/3D video games, and simulations for computers, consoles, and mobile devices.',\n",
       " 'Unreal Engine is used to create awesome games, and experiences for PC, mobile, console, VR, and AR.',\n",
       " 'Vagrant is an open-source software product for building and maintaining portable virtual software development environments.',\n",
       " 'Vim is a console-run text editor program.',\n",
       " 'Virtual reality is an artificial environment displayed through digital means.',\n",
       " 'Vue.js is a JavaScript framework for building interactive web applications.',\n",
       " 'Wagtail is an open source CMS written in Python and built on the Django web framework.',\n",
       " 'Web Components are a set of web platform APIs developers can use to create custom HTML tags.',\n",
       " 'A web application is any computer program that performs a specific function by using a web browser as its client.',\n",
       " 'Webpack is a bundler that takes modules with dependencies and creates static assets.',\n",
       " \"Windows is Microsoft's GUI-based operating system.\",\n",
       " 'WordPlate is a modern WordPress stack which simplifies WordPress development.',\n",
       " 'WordPress is a popular content management system, used for websites and blogs.',\n",
       " 'Xamarin is a platform for developing iOS and Android applications.',\n",
       " 'XML is subset of SGML (Standard Generalized Markup Language) used to store and transport data.']"
      ]
     },
     "execution_count": 145,
     "metadata": {},
     "output_type": "execute_result"
    }
   ],
   "source": [
    "topicDesc = get_topic_desc(topic)\n",
    "topicDesc"
   ]
  },
  {
   "cell_type": "code",
   "execution_count": 146,
   "metadata": {
    "pycharm": {
     "name": "#%%\n"
    }
   },
   "outputs": [
    {
     "data": {
      "text/plain": [
       "['https://github.com/topics/spacevim',\n",
       " 'https://github.com/topics/spring-boot',\n",
       " 'https://github.com/topics/sql',\n",
       " 'https://github.com/topics/storybook',\n",
       " 'https://github.com/topics/support',\n",
       " 'https://github.com/topics/swift',\n",
       " 'https://github.com/topics/symfony',\n",
       " 'https://github.com/topics/telegram',\n",
       " 'https://github.com/topics/tensorflow',\n",
       " 'https://github.com/topics/terminal',\n",
       " 'https://github.com/topics/terraform',\n",
       " 'https://github.com/topics/testing',\n",
       " 'https://github.com/topics/twitter',\n",
       " 'https://github.com/topics/typescript',\n",
       " 'https://github.com/topics/ubuntu',\n",
       " 'https://github.com/topics/unity',\n",
       " 'https://github.com/topics/unreal-engine',\n",
       " 'https://github.com/topics/vagrant',\n",
       " 'https://github.com/topics/vim',\n",
       " 'https://github.com/topics/virtual-reality',\n",
       " 'https://github.com/topics/vue',\n",
       " 'https://github.com/topics/wagtail',\n",
       " 'https://github.com/topics/web-components',\n",
       " 'https://github.com/topics/webapp',\n",
       " 'https://github.com/topics/webpack',\n",
       " 'https://github.com/topics/windows',\n",
       " 'https://github.com/topics/wordplate',\n",
       " 'https://github.com/topics/wordpress',\n",
       " 'https://github.com/topics/xamarin',\n",
       " 'https://github.com/topics/xml']"
      ]
     },
     "execution_count": 146,
     "metadata": {},
     "output_type": "execute_result"
    }
   ],
   "source": [
    "topicUrls = get_topic_url(topic)\n",
    "topicUrls"
   ]
  },
  {
   "cell_type": "markdown",
   "metadata": {},
   "source": [
    "All the data is stored in lists we have to convert it into a pandas DataFrame so that we will be able to get a csv file out of it or we can used it for further scraping."
   ]
  },
  {
   "cell_type": "code",
   "execution_count": 147,
   "metadata": {
    "pycharm": {
     "name": "#%%\n"
    }
   },
   "outputs": [],
   "source": [
    "def topics_data(topic):\n",
    "    topics_dict = {\n",
    "        'Title': get_topic_title(topic),\n",
    "        'Description':get_topic_desc(topic),\n",
    "        'Url':get_topic_url(topic)\n",
    "    }\n",
    "\n",
    "    return pd.DataFrame(topics_dict)"
   ]
  },
  {
   "cell_type": "code",
   "execution_count": 148,
   "metadata": {
    "pycharm": {
     "name": "#%%\n"
    }
   },
   "outputs": [
    {
     "data": {
      "text/html": [
       "<div>\n",
       "<style scoped>\n",
       "    .dataframe tbody tr th:only-of-type {\n",
       "        vertical-align: middle;\n",
       "    }\n",
       "\n",
       "    .dataframe tbody tr th {\n",
       "        vertical-align: top;\n",
       "    }\n",
       "\n",
       "    .dataframe thead th {\n",
       "        text-align: right;\n",
       "    }\n",
       "</style>\n",
       "<table border=\"1\" class=\"dataframe\">\n",
       "  <thead>\n",
       "    <tr style=\"text-align: right;\">\n",
       "      <th></th>\n",
       "      <th>Title</th>\n",
       "      <th>Description</th>\n",
       "      <th>Url</th>\n",
       "    </tr>\n",
       "  </thead>\n",
       "  <tbody>\n",
       "    <tr>\n",
       "      <th>0</th>\n",
       "      <td>SpaceVim</td>\n",
       "      <td>SpaceVim is a community-driven distribution of...</td>\n",
       "      <td>https://github.com/topics/spacevim</td>\n",
       "    </tr>\n",
       "    <tr>\n",
       "      <th>1</th>\n",
       "      <td>Spring Boot</td>\n",
       "      <td>Spring Boot is a coding and configuration mode...</td>\n",
       "      <td>https://github.com/topics/spring-boot</td>\n",
       "    </tr>\n",
       "    <tr>\n",
       "      <th>2</th>\n",
       "      <td>SQL</td>\n",
       "      <td>SQL is a standard language for storing, retrie...</td>\n",
       "      <td>https://github.com/topics/sql</td>\n",
       "    </tr>\n",
       "    <tr>\n",
       "      <th>3</th>\n",
       "      <td>Storybook</td>\n",
       "      <td>Storybook is a UI development environment for ...</td>\n",
       "      <td>https://github.com/topics/storybook</td>\n",
       "    </tr>\n",
       "    <tr>\n",
       "      <th>4</th>\n",
       "      <td>Support</td>\n",
       "      <td>Get your team and customers the help they need.</td>\n",
       "      <td>https://github.com/topics/support</td>\n",
       "    </tr>\n",
       "    <tr>\n",
       "      <th>5</th>\n",
       "      <td>Swift</td>\n",
       "      <td>Swift is a modern programming language focused...</td>\n",
       "      <td>https://github.com/topics/swift</td>\n",
       "    </tr>\n",
       "    <tr>\n",
       "      <th>6</th>\n",
       "      <td>Symfony</td>\n",
       "      <td>Symfony is a set of reusable PHP components an...</td>\n",
       "      <td>https://github.com/topics/symfony</td>\n",
       "    </tr>\n",
       "    <tr>\n",
       "      <th>7</th>\n",
       "      <td>Telegram</td>\n",
       "      <td>Telegram is a non-profit, cloud-based instant ...</td>\n",
       "      <td>https://github.com/topics/telegram</td>\n",
       "    </tr>\n",
       "    <tr>\n",
       "      <th>8</th>\n",
       "      <td>Tensorflow</td>\n",
       "      <td>TensorFlow is an open source software library ...</td>\n",
       "      <td>https://github.com/topics/tensorflow</td>\n",
       "    </tr>\n",
       "    <tr>\n",
       "      <th>9</th>\n",
       "      <td>Terminal</td>\n",
       "      <td>The terminal is an interface in which you can ...</td>\n",
       "      <td>https://github.com/topics/terminal</td>\n",
       "    </tr>\n",
       "    <tr>\n",
       "      <th>10</th>\n",
       "      <td>Terraform</td>\n",
       "      <td>An infrastructure-as-code tool for building, c...</td>\n",
       "      <td>https://github.com/topics/terraform</td>\n",
       "    </tr>\n",
       "    <tr>\n",
       "      <th>11</th>\n",
       "      <td>Testing</td>\n",
       "      <td>Eliminate bugs and ship with more confidence b...</td>\n",
       "      <td>https://github.com/topics/testing</td>\n",
       "    </tr>\n",
       "    <tr>\n",
       "      <th>12</th>\n",
       "      <td>Twitter</td>\n",
       "      <td>Twitter is an online news and social networkin...</td>\n",
       "      <td>https://github.com/topics/twitter</td>\n",
       "    </tr>\n",
       "    <tr>\n",
       "      <th>13</th>\n",
       "      <td>TypeScript</td>\n",
       "      <td>TypeScript is a typed superset of JavaScript t...</td>\n",
       "      <td>https://github.com/topics/typescript</td>\n",
       "    </tr>\n",
       "    <tr>\n",
       "      <th>14</th>\n",
       "      <td>Ubuntu</td>\n",
       "      <td>Ubuntu is a Linux-based operating system.</td>\n",
       "      <td>https://github.com/topics/ubuntu</td>\n",
       "    </tr>\n",
       "    <tr>\n",
       "      <th>15</th>\n",
       "      <td>Unity</td>\n",
       "      <td>Unity is a game engine used to create 2D/3D vi...</td>\n",
       "      <td>https://github.com/topics/unity</td>\n",
       "    </tr>\n",
       "    <tr>\n",
       "      <th>16</th>\n",
       "      <td>Unreal Engine</td>\n",
       "      <td>Unreal Engine is used to create awesome games,...</td>\n",
       "      <td>https://github.com/topics/unreal-engine</td>\n",
       "    </tr>\n",
       "    <tr>\n",
       "      <th>17</th>\n",
       "      <td>Vagrant</td>\n",
       "      <td>Vagrant is an open-source software product for...</td>\n",
       "      <td>https://github.com/topics/vagrant</td>\n",
       "    </tr>\n",
       "    <tr>\n",
       "      <th>18</th>\n",
       "      <td>Vim</td>\n",
       "      <td>Vim is a console-run text editor program.</td>\n",
       "      <td>https://github.com/topics/vim</td>\n",
       "    </tr>\n",
       "    <tr>\n",
       "      <th>19</th>\n",
       "      <td>Virtual reality</td>\n",
       "      <td>Virtual reality is an artificial environment d...</td>\n",
       "      <td>https://github.com/topics/virtual-reality</td>\n",
       "    </tr>\n",
       "    <tr>\n",
       "      <th>20</th>\n",
       "      <td>Vue.js</td>\n",
       "      <td>Vue.js is a JavaScript framework for building ...</td>\n",
       "      <td>https://github.com/topics/vue</td>\n",
       "    </tr>\n",
       "    <tr>\n",
       "      <th>21</th>\n",
       "      <td>Wagtail</td>\n",
       "      <td>Wagtail is an open source CMS written in Pytho...</td>\n",
       "      <td>https://github.com/topics/wagtail</td>\n",
       "    </tr>\n",
       "    <tr>\n",
       "      <th>22</th>\n",
       "      <td>Web Components</td>\n",
       "      <td>Web Components are a set of web platform APIs ...</td>\n",
       "      <td>https://github.com/topics/web-components</td>\n",
       "    </tr>\n",
       "    <tr>\n",
       "      <th>23</th>\n",
       "      <td>Web app</td>\n",
       "      <td>A web application is any computer program that...</td>\n",
       "      <td>https://github.com/topics/webapp</td>\n",
       "    </tr>\n",
       "    <tr>\n",
       "      <th>24</th>\n",
       "      <td>Webpack</td>\n",
       "      <td>Webpack is a bundler that takes modules with d...</td>\n",
       "      <td>https://github.com/topics/webpack</td>\n",
       "    </tr>\n",
       "    <tr>\n",
       "      <th>25</th>\n",
       "      <td>Windows</td>\n",
       "      <td>Windows is Microsoft's GUI-based operating sys...</td>\n",
       "      <td>https://github.com/topics/windows</td>\n",
       "    </tr>\n",
       "    <tr>\n",
       "      <th>26</th>\n",
       "      <td>WordPlate</td>\n",
       "      <td>WordPlate is a modern WordPress stack which si...</td>\n",
       "      <td>https://github.com/topics/wordplate</td>\n",
       "    </tr>\n",
       "    <tr>\n",
       "      <th>27</th>\n",
       "      <td>WordPress</td>\n",
       "      <td>WordPress is a popular content management syst...</td>\n",
       "      <td>https://github.com/topics/wordpress</td>\n",
       "    </tr>\n",
       "    <tr>\n",
       "      <th>28</th>\n",
       "      <td>Xamarin</td>\n",
       "      <td>Xamarin is a platform for developing iOS and A...</td>\n",
       "      <td>https://github.com/topics/xamarin</td>\n",
       "    </tr>\n",
       "    <tr>\n",
       "      <th>29</th>\n",
       "      <td>XML</td>\n",
       "      <td>XML is subset of SGML (Standard Generalized Ma...</td>\n",
       "      <td>https://github.com/topics/xml</td>\n",
       "    </tr>\n",
       "  </tbody>\n",
       "</table>\n",
       "</div>"
      ],
      "text/plain": [
       "              Title                                        Description  \\\n",
       "0          SpaceVim  SpaceVim is a community-driven distribution of...   \n",
       "1       Spring Boot  Spring Boot is a coding and configuration mode...   \n",
       "2               SQL  SQL is a standard language for storing, retrie...   \n",
       "3         Storybook  Storybook is a UI development environment for ...   \n",
       "4           Support    Get your team and customers the help they need.   \n",
       "5             Swift  Swift is a modern programming language focused...   \n",
       "6           Symfony  Symfony is a set of reusable PHP components an...   \n",
       "7          Telegram  Telegram is a non-profit, cloud-based instant ...   \n",
       "8        Tensorflow  TensorFlow is an open source software library ...   \n",
       "9          Terminal  The terminal is an interface in which you can ...   \n",
       "10        Terraform  An infrastructure-as-code tool for building, c...   \n",
       "11          Testing  Eliminate bugs and ship with more confidence b...   \n",
       "12          Twitter  Twitter is an online news and social networkin...   \n",
       "13       TypeScript  TypeScript is a typed superset of JavaScript t...   \n",
       "14           Ubuntu          Ubuntu is a Linux-based operating system.   \n",
       "15            Unity  Unity is a game engine used to create 2D/3D vi...   \n",
       "16    Unreal Engine  Unreal Engine is used to create awesome games,...   \n",
       "17          Vagrant  Vagrant is an open-source software product for...   \n",
       "18              Vim          Vim is a console-run text editor program.   \n",
       "19  Virtual reality  Virtual reality is an artificial environment d...   \n",
       "20           Vue.js  Vue.js is a JavaScript framework for building ...   \n",
       "21          Wagtail  Wagtail is an open source CMS written in Pytho...   \n",
       "22   Web Components  Web Components are a set of web platform APIs ...   \n",
       "23          Web app  A web application is any computer program that...   \n",
       "24          Webpack  Webpack is a bundler that takes modules with d...   \n",
       "25          Windows  Windows is Microsoft's GUI-based operating sys...   \n",
       "26        WordPlate  WordPlate is a modern WordPress stack which si...   \n",
       "27        WordPress  WordPress is a popular content management syst...   \n",
       "28          Xamarin  Xamarin is a platform for developing iOS and A...   \n",
       "29              XML  XML is subset of SGML (Standard Generalized Ma...   \n",
       "\n",
       "                                          Url  \n",
       "0          https://github.com/topics/spacevim  \n",
       "1       https://github.com/topics/spring-boot  \n",
       "2               https://github.com/topics/sql  \n",
       "3         https://github.com/topics/storybook  \n",
       "4           https://github.com/topics/support  \n",
       "5             https://github.com/topics/swift  \n",
       "6           https://github.com/topics/symfony  \n",
       "7          https://github.com/topics/telegram  \n",
       "8        https://github.com/topics/tensorflow  \n",
       "9          https://github.com/topics/terminal  \n",
       "10        https://github.com/topics/terraform  \n",
       "11          https://github.com/topics/testing  \n",
       "12          https://github.com/topics/twitter  \n",
       "13       https://github.com/topics/typescript  \n",
       "14           https://github.com/topics/ubuntu  \n",
       "15            https://github.com/topics/unity  \n",
       "16    https://github.com/topics/unreal-engine  \n",
       "17          https://github.com/topics/vagrant  \n",
       "18              https://github.com/topics/vim  \n",
       "19  https://github.com/topics/virtual-reality  \n",
       "20              https://github.com/topics/vue  \n",
       "21          https://github.com/topics/wagtail  \n",
       "22   https://github.com/topics/web-components  \n",
       "23           https://github.com/topics/webapp  \n",
       "24          https://github.com/topics/webpack  \n",
       "25          https://github.com/topics/windows  \n",
       "26        https://github.com/topics/wordplate  \n",
       "27        https://github.com/topics/wordpress  \n",
       "28          https://github.com/topics/xamarin  \n",
       "29              https://github.com/topics/xml  "
      ]
     },
     "execution_count": 148,
     "metadata": {},
     "output_type": "execute_result"
    }
   ],
   "source": [
    "topics_data(topic)"
   ]
  },
  {
   "cell_type": "markdown",
   "metadata": {},
   "source": [
    "## 📍 Scraping repositories of each topic\n",
    "\n",
    "'topicUrl' Variable stores a list of all topic urls from the topics page downloaded.\n",
    "\n",
    "But to extract the repositories data of each and every topic we have to download and parse each and every topic pages from the main page so with the help of the topic url list we created earlier we will follow the same steps has we did for the main github topic page.\n",
    "\n",
    "We created the similar kind of function we created at the very beginning of this notebook but the only change is we are using topic url as our input parameter."
   ]
  },
  {
   "cell_type": "code",
   "execution_count": 149,
   "metadata": {
    "pycharm": {
     "name": "#%%\n"
    }
   },
   "outputs": [],
   "source": [
    "def get_page_info(topicUrl):\n",
    "    #Get a particular link html document\n",
    "    topic_doc = requests.get(topicUrl)\n",
    "\n",
    "    if topic_doc.status_code != 200:\n",
    "        raise Exception('Failed to load page {}'.format(topicUrl))\n",
    "\n",
    "    #Parse the html document using Beautiful soup if the status code is valid 200\n",
    "    topic_page =  BeautifulSoup(topic_doc.text, 'html.parser')\n",
    "\n",
    "    return topic_page"
   ]
  },
  {
   "cell_type": "code",
   "execution_count": 150,
   "metadata": {
    "pycharm": {
     "name": "#%%\n"
    }
   },
   "outputs": [
    {
     "data": {
      "text/plain": [
       "bs4.BeautifulSoup"
      ]
     },
     "execution_count": 150,
     "metadata": {},
     "output_type": "execute_result"
    }
   ],
   "source": [
    "topic_page = get_page_info(topicUrls[0])\n",
    "type(topic_page)"
   ]
  },
  {
   "cell_type": "markdown",
   "metadata": {},
   "source": [
    "To get the repositories data, we have to find out where is the information stored in the html page.\n",
    "While Inspecting the page I found that the information that I want i.e. Repositories name and stars are been stored in 'h3' tag and 'span' tag respectively so we have to scrape that information using 'Beautiful Soup'\n",
    "\n",
    "**Note** : The html structure of the page might change in the later years so if one wants to use this notebook he/she has to inspect the page and update this code chunk as per the latest tags"
   ]
  },
  {
   "cell_type": "code",
   "execution_count": 151,
   "metadata": {
    "pycharm": {
     "name": "#%%\n"
    }
   },
   "outputs": [],
   "source": [
    "#Get the repositories and stars tag\n",
    "h1_tags = topic.findAll('h3', {\"class\":\"f3 color-fg-muted text-normal lh-condensed\"})\n",
    "star_tags = topic.findAll('span', {\"class\":\"Counter js-social-count\"})"
   ]
  },
  {
   "cell_type": "markdown",
   "metadata": {},
   "source": [
    "The Stars information is stored in the page has the form of 'k' numerical\n",
    "For example - 77000 is stored as 77k\n",
    "\n",
    "So we have converted each and every star format to an integer format"
   ]
  },
  {
   "cell_type": "code",
   "execution_count": 152,
   "metadata": {
    "pycharm": {
     "name": "#%%\n"
    }
   },
   "outputs": [],
   "source": [
    "def parse_star_count(stars_str):\n",
    "    starsStr = stars_str.strip()\n",
    "\n",
    "    if starsStr[-1] == 'k':\n",
    "        return int(float(starsStr[:-1]) * 1000)\n",
    "\n",
    "    return int(starsStr)"
   ]
  },
  {
   "cell_type": "markdown",
   "metadata": {},
   "source": [
    "Once we have done with all the data formatting and parsing pages we have to scrape the main contents out of the data we have.\n",
    "That is - username, repository name, repository url and stars"
   ]
  },
  {
   "cell_type": "code",
   "execution_count": 153,
   "metadata": {
    "pycharm": {
     "name": "#%%\n"
    }
   },
   "outputs": [],
   "source": [
    "def get_repo_info(h1_tag, star_tag):\n",
    "    baseurl = 'https://github.com'\n",
    "    # Return all the required info about a repository\n",
    "\n",
    "    aTags = h1_tag.find_all('a')\n",
    "    username = aTags[0].text.strip()\n",
    "    reponame = aTags[1].text.strip()\n",
    "    repourl = baseurl + aTags[1]['href']\n",
    "    stars = parse_star_count(star_tag.text)\n",
    "\n",
    "    return username, reponame, repourl, stars"
   ]
  },
  {
   "cell_type": "markdown",
   "metadata": {},
   "source": [
    "Saving all the data we have in a Python Dictionary and then create a Dataframe from it.\n",
    "To create a DataFrame from the information we have, we are using Pandas DataFrame function."
   ]
  },
  {
   "cell_type": "code",
   "execution_count": 154,
   "metadata": {
    "pycharm": {
     "name": "#%%\n"
    }
   },
   "outputs": [],
   "source": [
    "def get_topic_repos(topic):\n",
    "    #Get the repositories and stars tag\n",
    "    h1_tags = topic.findAll('h3', {\"class\":\"f3 color-fg-muted text-normal lh-condensed\"})\n",
    "    star_tags = topic.findAll('span', {\"class\":\"Counter js-social-count\"})\n",
    "\n",
    "    # Initializing a python dictionary\n",
    "    topic_repos_dict = {'username':[], 'repo_name':[], 'stars':[], 'repo_url':[]}\n",
    "\n",
    "    for i in range(len(h1_tags)):\n",
    "        repo_info = get_repo_info(h1_tags[i], star_tags[i])\n",
    "        topic_repos_dict['username'].append(repo_info[0])\n",
    "        topic_repos_dict['repo_name'].append(repo_info[1])\n",
    "        topic_repos_dict['stars'].append(repo_info[3])\n",
    "        topic_repos_dict['repo_url'].append(repo_info[2])\n",
    "\n",
    "    return pd.DataFrame(topic_repos_dict)"
   ]
  },
  {
   "cell_type": "code",
   "execution_count": 155,
   "metadata": {
    "pycharm": {
     "name": "#%%\n"
    }
   },
   "outputs": [
    {
     "data": {
      "text/html": [
       "<div>\n",
       "<style scoped>\n",
       "    .dataframe tbody tr th:only-of-type {\n",
       "        vertical-align: middle;\n",
       "    }\n",
       "\n",
       "    .dataframe tbody tr th {\n",
       "        vertical-align: top;\n",
       "    }\n",
       "\n",
       "    .dataframe thead th {\n",
       "        text-align: right;\n",
       "    }\n",
       "</style>\n",
       "<table border=\"1\" class=\"dataframe\">\n",
       "  <thead>\n",
       "    <tr style=\"text-align: right;\">\n",
       "      <th></th>\n",
       "      <th>username</th>\n",
       "      <th>repo_name</th>\n",
       "      <th>stars</th>\n",
       "      <th>repo_url</th>\n",
       "    </tr>\n",
       "  </thead>\n",
       "  <tbody>\n",
       "    <tr>\n",
       "      <th>0</th>\n",
       "      <td>SpaceVim</td>\n",
       "      <td>SpaceVim</td>\n",
       "      <td>17700</td>\n",
       "      <td>https://github.com/SpaceVim/SpaceVim</td>\n",
       "    </tr>\n",
       "    <tr>\n",
       "      <th>1</th>\n",
       "      <td>wsdjeg</td>\n",
       "      <td>vim-galore-zh_cn</td>\n",
       "      <td>8800</td>\n",
       "      <td>https://github.com/wsdjeg/vim-galore-zh_cn</td>\n",
       "    </tr>\n",
       "    <tr>\n",
       "      <th>2</th>\n",
       "      <td>wsdjeg</td>\n",
       "      <td>DotFiles</td>\n",
       "      <td>1400</td>\n",
       "      <td>https://github.com/wsdjeg/DotFiles</td>\n",
       "    </tr>\n",
       "    <tr>\n",
       "      <th>3</th>\n",
       "      <td>wsdjeg</td>\n",
       "      <td>vim-chat</td>\n",
       "      <td>472</td>\n",
       "      <td>https://github.com/wsdjeg/vim-chat</td>\n",
       "    </tr>\n",
       "    <tr>\n",
       "      <th>4</th>\n",
       "      <td>Gabirel</td>\n",
       "      <td>Hack-SpaceVim</td>\n",
       "      <td>403</td>\n",
       "      <td>https://github.com/Gabirel/Hack-SpaceVim</td>\n",
       "    </tr>\n",
       "    <tr>\n",
       "      <th>5</th>\n",
       "      <td>ctjhoa</td>\n",
       "      <td>spacevim</td>\n",
       "      <td>368</td>\n",
       "      <td>https://github.com/ctjhoa/spacevim</td>\n",
       "    </tr>\n",
       "    <tr>\n",
       "      <th>6</th>\n",
       "      <td>wsdjeg</td>\n",
       "      <td>FlyGrep.vim</td>\n",
       "      <td>293</td>\n",
       "      <td>https://github.com/wsdjeg/FlyGrep.vim</td>\n",
       "    </tr>\n",
       "    <tr>\n",
       "      <th>7</th>\n",
       "      <td>wsdjeg</td>\n",
       "      <td>GitHub.vim</td>\n",
       "      <td>192</td>\n",
       "      <td>https://github.com/wsdjeg/GitHub.vim</td>\n",
       "    </tr>\n",
       "    <tr>\n",
       "      <th>8</th>\n",
       "      <td>Martins3</td>\n",
       "      <td>My-Linux-Config</td>\n",
       "      <td>144</td>\n",
       "      <td>https://github.com/Martins3/My-Linux-Config</td>\n",
       "    </tr>\n",
       "    <tr>\n",
       "      <th>9</th>\n",
       "      <td>wsdjeg</td>\n",
       "      <td>JavaUnit.vim</td>\n",
       "      <td>104</td>\n",
       "      <td>https://github.com/wsdjeg/JavaUnit.vim</td>\n",
       "    </tr>\n",
       "    <tr>\n",
       "      <th>10</th>\n",
       "      <td>wsdjeg</td>\n",
       "      <td>imenu.vim</td>\n",
       "      <td>99</td>\n",
       "      <td>https://github.com/wsdjeg/imenu.vim</td>\n",
       "    </tr>\n",
       "    <tr>\n",
       "      <th>11</th>\n",
       "      <td>wsdjeg</td>\n",
       "      <td>job.vim</td>\n",
       "      <td>91</td>\n",
       "      <td>https://github.com/wsdjeg/job.vim</td>\n",
       "    </tr>\n",
       "    <tr>\n",
       "      <th>12</th>\n",
       "      <td>SpaceVim</td>\n",
       "      <td>vim-markdown</td>\n",
       "      <td>74</td>\n",
       "      <td>https://github.com/SpaceVim/vim-markdown</td>\n",
       "    </tr>\n",
       "    <tr>\n",
       "      <th>13</th>\n",
       "      <td>SpaceVim</td>\n",
       "      <td>gtags.vim</td>\n",
       "      <td>71</td>\n",
       "      <td>https://github.com/SpaceVim/gtags.vim</td>\n",
       "    </tr>\n",
       "    <tr>\n",
       "      <th>14</th>\n",
       "      <td>SpaceVim</td>\n",
       "      <td>cscope.vim</td>\n",
       "      <td>65</td>\n",
       "      <td>https://github.com/SpaceVim/cscope.vim</td>\n",
       "    </tr>\n",
       "    <tr>\n",
       "      <th>15</th>\n",
       "      <td>prontera</td>\n",
       "      <td>ideavimrc</td>\n",
       "      <td>58</td>\n",
       "      <td>https://github.com/prontera/ideavimrc</td>\n",
       "    </tr>\n",
       "    <tr>\n",
       "      <th>16</th>\n",
       "      <td>mrbeardad</td>\n",
       "      <td>SpaceVim</td>\n",
       "      <td>43</td>\n",
       "      <td>https://github.com/mrbeardad/SpaceVim</td>\n",
       "    </tr>\n",
       "    <tr>\n",
       "      <th>17</th>\n",
       "      <td>Tehnix</td>\n",
       "      <td>spaceneovim-layers</td>\n",
       "      <td>39</td>\n",
       "      <td>https://github.com/Tehnix/spaceneovim-layers</td>\n",
       "    </tr>\n",
       "    <tr>\n",
       "      <th>18</th>\n",
       "      <td>joelazar</td>\n",
       "      <td>dotfiles</td>\n",
       "      <td>35</td>\n",
       "      <td>https://github.com/joelazar/dotfiles</td>\n",
       "    </tr>\n",
       "    <tr>\n",
       "      <th>19</th>\n",
       "      <td>lucasprag</td>\n",
       "      <td>vimlociraptor</td>\n",
       "      <td>12</td>\n",
       "      <td>https://github.com/lucasprag/vimlociraptor</td>\n",
       "    </tr>\n",
       "    <tr>\n",
       "      <th>20</th>\n",
       "      <td>everettjf</td>\n",
       "      <td>SpaceVimTutorial</td>\n",
       "      <td>12</td>\n",
       "      <td>https://github.com/everettjf/SpaceVimTutorial</td>\n",
       "    </tr>\n",
       "    <tr>\n",
       "      <th>21</th>\n",
       "      <td>techgaun</td>\n",
       "      <td>dotfiles</td>\n",
       "      <td>8</td>\n",
       "      <td>https://github.com/techgaun/dotfiles</td>\n",
       "    </tr>\n",
       "    <tr>\n",
       "      <th>22</th>\n",
       "      <td>wsdjeg</td>\n",
       "      <td>vim-pact</td>\n",
       "      <td>7</td>\n",
       "      <td>https://github.com/wsdjeg/vim-pact</td>\n",
       "    </tr>\n",
       "    <tr>\n",
       "      <th>23</th>\n",
       "      <td>SpaceVim</td>\n",
       "      <td>SpaceVim-theme</td>\n",
       "      <td>7</td>\n",
       "      <td>https://github.com/SpaceVim/SpaceVim-theme</td>\n",
       "    </tr>\n",
       "    <tr>\n",
       "      <th>24</th>\n",
       "      <td>Axect</td>\n",
       "      <td>Socialst</td>\n",
       "      <td>7</td>\n",
       "      <td>https://github.com/Axect/Socialst</td>\n",
       "    </tr>\n",
       "    <tr>\n",
       "      <th>25</th>\n",
       "      <td>wsdjeg</td>\n",
       "      <td>vim-fuzzy</td>\n",
       "      <td>7</td>\n",
       "      <td>https://github.com/wsdjeg/vim-fuzzy</td>\n",
       "    </tr>\n",
       "    <tr>\n",
       "      <th>26</th>\n",
       "      <td>wsdjeg</td>\n",
       "      <td>vim-nim</td>\n",
       "      <td>6</td>\n",
       "      <td>https://github.com/wsdjeg/vim-nim</td>\n",
       "    </tr>\n",
       "    <tr>\n",
       "      <th>27</th>\n",
       "      <td>chrisenytc</td>\n",
       "      <td>spacevim</td>\n",
       "      <td>4</td>\n",
       "      <td>https://github.com/chrisenytc/spacevim</td>\n",
       "    </tr>\n",
       "    <tr>\n",
       "      <th>28</th>\n",
       "      <td>SpaceVim</td>\n",
       "      <td>unite-ctags</td>\n",
       "      <td>3</td>\n",
       "      <td>https://github.com/SpaceVim/unite-ctags</td>\n",
       "    </tr>\n",
       "    <tr>\n",
       "      <th>29</th>\n",
       "      <td>VarunBatraIT</td>\n",
       "      <td>SpaceBox</td>\n",
       "      <td>3</td>\n",
       "      <td>https://github.com/VarunBatraIT/SpaceBox</td>\n",
       "    </tr>\n",
       "  </tbody>\n",
       "</table>\n",
       "</div>"
      ],
      "text/plain": [
       "        username           repo_name  stars  \\\n",
       "0       SpaceVim            SpaceVim  17700   \n",
       "1         wsdjeg    vim-galore-zh_cn   8800   \n",
       "2         wsdjeg            DotFiles   1400   \n",
       "3         wsdjeg            vim-chat    472   \n",
       "4        Gabirel       Hack-SpaceVim    403   \n",
       "5         ctjhoa            spacevim    368   \n",
       "6         wsdjeg         FlyGrep.vim    293   \n",
       "7         wsdjeg          GitHub.vim    192   \n",
       "8       Martins3     My-Linux-Config    144   \n",
       "9         wsdjeg        JavaUnit.vim    104   \n",
       "10        wsdjeg           imenu.vim     99   \n",
       "11        wsdjeg             job.vim     91   \n",
       "12      SpaceVim        vim-markdown     74   \n",
       "13      SpaceVim           gtags.vim     71   \n",
       "14      SpaceVim          cscope.vim     65   \n",
       "15      prontera           ideavimrc     58   \n",
       "16     mrbeardad            SpaceVim     43   \n",
       "17        Tehnix  spaceneovim-layers     39   \n",
       "18      joelazar            dotfiles     35   \n",
       "19     lucasprag       vimlociraptor     12   \n",
       "20     everettjf    SpaceVimTutorial     12   \n",
       "21      techgaun            dotfiles      8   \n",
       "22        wsdjeg            vim-pact      7   \n",
       "23      SpaceVim      SpaceVim-theme      7   \n",
       "24         Axect            Socialst      7   \n",
       "25        wsdjeg           vim-fuzzy      7   \n",
       "26        wsdjeg             vim-nim      6   \n",
       "27    chrisenytc            spacevim      4   \n",
       "28      SpaceVim         unite-ctags      3   \n",
       "29  VarunBatraIT            SpaceBox      3   \n",
       "\n",
       "                                         repo_url  \n",
       "0            https://github.com/SpaceVim/SpaceVim  \n",
       "1      https://github.com/wsdjeg/vim-galore-zh_cn  \n",
       "2              https://github.com/wsdjeg/DotFiles  \n",
       "3              https://github.com/wsdjeg/vim-chat  \n",
       "4        https://github.com/Gabirel/Hack-SpaceVim  \n",
       "5              https://github.com/ctjhoa/spacevim  \n",
       "6           https://github.com/wsdjeg/FlyGrep.vim  \n",
       "7            https://github.com/wsdjeg/GitHub.vim  \n",
       "8     https://github.com/Martins3/My-Linux-Config  \n",
       "9          https://github.com/wsdjeg/JavaUnit.vim  \n",
       "10            https://github.com/wsdjeg/imenu.vim  \n",
       "11              https://github.com/wsdjeg/job.vim  \n",
       "12       https://github.com/SpaceVim/vim-markdown  \n",
       "13          https://github.com/SpaceVim/gtags.vim  \n",
       "14         https://github.com/SpaceVim/cscope.vim  \n",
       "15          https://github.com/prontera/ideavimrc  \n",
       "16          https://github.com/mrbeardad/SpaceVim  \n",
       "17   https://github.com/Tehnix/spaceneovim-layers  \n",
       "18           https://github.com/joelazar/dotfiles  \n",
       "19     https://github.com/lucasprag/vimlociraptor  \n",
       "20  https://github.com/everettjf/SpaceVimTutorial  \n",
       "21           https://github.com/techgaun/dotfiles  \n",
       "22             https://github.com/wsdjeg/vim-pact  \n",
       "23     https://github.com/SpaceVim/SpaceVim-theme  \n",
       "24              https://github.com/Axect/Socialst  \n",
       "25            https://github.com/wsdjeg/vim-fuzzy  \n",
       "26              https://github.com/wsdjeg/vim-nim  \n",
       "27         https://github.com/chrisenytc/spacevim  \n",
       "28        https://github.com/SpaceVim/unite-ctags  \n",
       "29       https://github.com/VarunBatraIT/SpaceBox  "
      ]
     },
     "execution_count": 155,
     "metadata": {},
     "output_type": "execute_result"
    }
   ],
   "source": [
    "get_topic_repos(topic_page)"
   ]
  },
  {
   "cell_type": "markdown",
   "metadata": {},
   "source": [
    "The Last step is convert all the Dataframes into a csv file and save it into your local machine.\n",
    "\n",
    "So before that we will do some manipulation with our process, first is we will create a directory where we will save all our csv files\n",
    "Creating and saving csv files in a directory using the 'os' function.\n",
    "\n",
    "## 📍 Create Data Directory and save as CSV Files"
   ]
  },
  {
   "cell_type": "code",
   "execution_count": 156,
   "metadata": {
    "pycharm": {
     "name": "#%%\n"
    }
   },
   "outputs": [],
   "source": [
    "def scrape_topic(topic_url, path):\n",
    "\n",
    "    if os.path.exists(path):\n",
    "        print('The File', format(path), ' already exists. Skipping...')\n",
    "\n",
    "    topic_df = get_topic_repos(get_page_info(topic_url))\n",
    "    topic_df.to_csv(path, index=None)"
   ]
  },
  {
   "cell_type": "markdown",
   "metadata": {},
   "source": [
    "Lastly we have to call all the above created functions.\n",
    "\n",
    "**Note** - Some pages might not get download due to some backend error from the github side but all you have to do is re run the scrape_topics_csv() function again so that the similar problem will not happen again."
   ]
  },
  {
   "cell_type": "code",
   "execution_count": 157,
   "metadata": {
    "pycharm": {
     "name": "#%%\n"
    }
   },
   "outputs": [],
   "source": [
    "def scrape_topics_csv():\n",
    "    print('Scraping Topics')\n",
    "    topics = scrape_topics_repos()\n",
    "    topics_df = topics_data(topics)\n",
    "\n",
    "    os.makedirs('data', exist_ok=True)\n",
    "\n",
    "    for index, row in topics_df.iterrows():\n",
    "        print('Scraping Top Repositories for ', format(row['Title']))\n",
    "        scrape_topic(row['Url'], 'data/{}.csv'.format(row['Title']))"
   ]
  },
  {
   "cell_type": "code",
   "execution_count": 158,
   "metadata": {
    "pycharm": {
     "name": "#%%\n"
    }
   },
   "outputs": [
    {
     "name": "stdout",
     "output_type": "stream",
     "text": [
      "Scraping Topics\n",
      "Scraping Top Repositories for  SpaceVim\n",
      "Scraping Top Repositories for  Spring Boot\n",
      "Scraping Top Repositories for  SQL\n",
      "Scraping Top Repositories for  Storybook\n",
      "Scraping Top Repositories for  Support\n",
      "Scraping Top Repositories for  Swift\n",
      "Scraping Top Repositories for  Symfony\n",
      "Scraping Top Repositories for  Telegram\n",
      "Scraping Top Repositories for  Tensorflow\n",
      "Scraping Top Repositories for  Terminal\n",
      "Scraping Top Repositories for  Terraform\n",
      "Scraping Top Repositories for  Testing\n",
      "Scraping Top Repositories for  Twitter\n",
      "Scraping Top Repositories for  TypeScript\n",
      "Scraping Top Repositories for  Ubuntu\n",
      "Scraping Top Repositories for  Unity\n",
      "Scraping Top Repositories for  Unreal Engine\n",
      "Scraping Top Repositories for  Vagrant\n",
      "Scraping Top Repositories for  Vim\n",
      "Scraping Top Repositories for  Virtual reality\n",
      "Scraping Top Repositories for  Vue.js\n",
      "Scraping Top Repositories for  Wagtail\n",
      "Scraping Top Repositories for  Web Components\n",
      "Scraping Top Repositories for  Web app\n",
      "Scraping Top Repositories for  Webpack\n",
      "Scraping Top Repositories for  Windows\n",
      "Scraping Top Repositories for  WordPlate\n",
      "Scraping Top Repositories for  WordPress\n",
      "Scraping Top Repositories for  Xamarin\n",
      "Scraping Top Repositories for  XML\n"
     ]
    }
   ],
   "source": [
    "scrape_topics_csv()"
   ]
  },
  {
   "cell_type": "markdown",
   "metadata": {},
   "source": [
    "**Summary** -\n",
    "- Scrape top 30 topics in alphabetical order from https://github.com/topics.\n",
    "- Along with topics we have extracted top 30 repositories in the given order on website from each topic we have scrape.\n",
    "- After we gathered all the data, we converted the available data into a pandas DataFrame.\n",
    "- And Lastly we have created 30 csv files of the top repositories we have extracted from each topic we scrape.\n",
    "\n",
    "**References** -\n",
    "- <a href='https://github.com/topic'>Github</a>\n",
    "- <a href='https://beautiful-soup-4.readthedocs.io/en/latest/#'>Beautiful Soup Documentation</a>\n",
    "- <a href='https://jovian.ai/moustapha00864/python-web-scraping-project-guide'>Jovian</a>\n",
    "\n",
    "**Future ideas** -\n",
    "- We can scrape the repositories of remaining topics from the github page.\n",
    "- Scrape topics which have the highest no. of repositories in ascending order.\n",
    "- We can also include repositories tags which will help for analysing latest trends followed together.\n",
    "- Extracting repositories metrics like Forks, Pull requests, Open and Closed Issues.\n",
    "- Adding timestamps of when repository was last updated."
   ]
  }
 ],
 "metadata": {
  "kernelspec": {
   "display_name": "Python 3",
   "language": "python",
   "name": "python3"
  },
  "language_info": {
   "codemirror_mode": {
    "name": "ipython",
    "version": 3
   },
   "file_extension": ".py",
   "mimetype": "text/x-python",
   "name": "python",
   "nbconvert_exporter": "python",
   "pygments_lexer": "ipython3",
   "version": "3.7.9"
  }
 },
 "nbformat": 4,
 "nbformat_minor": 1
}
